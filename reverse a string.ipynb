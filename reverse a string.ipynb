{
 "cells": [
  {
   "cell_type": "markdown",
   "id": "a25db385",
   "metadata": {},
   "source": [
    "## Reverse a string"
   ]
  },
  {
   "cell_type": "code",
   "execution_count": 3,
   "id": "329a9b5c",
   "metadata": {},
   "outputs": [
    {
     "name": "stdout",
     "output_type": "stream",
     "text": [
      "reverse string dcba4321\n"
     ]
    }
   ],
   "source": [
    "def a(str):\n",
    "    str_1=\"\"\n",
    "    for i in str:\n",
    "        str_1=i+str_1\n",
    "    return str_1 \n",
    "\n",
    "str = \"1234abcd\"\n",
    "print(\"reverse string {}\".format(a(str)))"
   ]
  },
  {
   "cell_type": "code",
   "execution_count": null,
   "id": "ff1768a2",
   "metadata": {},
   "outputs": [],
   "source": []
  }
 ],
 "metadata": {
  "kernelspec": {
   "display_name": "Python 3 (ipykernel)",
   "language": "python",
   "name": "python3"
  },
  "language_info": {
   "codemirror_mode": {
    "name": "ipython",
    "version": 3
   },
   "file_extension": ".py",
   "mimetype": "text/x-python",
   "name": "python",
   "nbconvert_exporter": "python",
   "pygments_lexer": "ipython3",
   "version": "3.9.13"
  }
 },
 "nbformat": 4,
 "nbformat_minor": 5
}
